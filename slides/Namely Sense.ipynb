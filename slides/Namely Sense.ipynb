{
 "cells": [
  {
   "cell_type": "markdown",
   "metadata": {
    "slideshow": {
     "slide_type": "slide"
    }
   },
   "source": [
    "<h2 align=\"center\"> Sensely </h2>\n",
    "<h3 align=\"center\"> Office Automation with the Internet of Things and Python </h3>"
   ]
  },
  {
   "cell_type": "markdown",
   "metadata": {
    "slideshow": {
     "slide_type": "slide"
    }
   },
   "source": [
    "<h2 align=\"center\"> Sensely Team </h2>"
   ]
  },
  {
   "cell_type": "markdown",
   "metadata": {
    "slideshow": {
     "slide_type": "-"
    }
   },
   "source": [
    "<ul style=\"display:table; margin:0 auto;\">\n",
    "    <li>Rich Fernandez</li>\n",
    "    <li>Jordan Buffaloe</li>\n",
    "    <li>Greg Delpe</li>\n",
    "    <li>Attila Maczat</li>\n",
    "    <li>Luigi Patruno</li>\n",
    "</ul>"
   ]
  },
  {
   "cell_type": "markdown",
   "metadata": {
    "slideshow": {
     "slide_type": "slide"
    }
   },
   "source": [
    "<h2 align=\"center\"> About Me </h2>"
   ]
  },
  {
   "cell_type": "markdown",
   "metadata": {},
   "source": [
    "<ul style=\"display:table; margin:0 auto;\">\n",
    "    <li>Luigi Patruno</li>\n",
    "    <li>Data Scientist (Engineer?)</li>\n",
    "    <li>Adjunct Professor at Fordham University</li>\n",
    "    <li>M.S. Computer Science, B.S. Mathematics</li>\n",
    "    <li><a href=\"github.com/lpatruno\">\n",
    "        github.com/lpatruno</a></li>\n",
    "    <li><a href=\"linkedin.com/in/luigipatruno91\">\n",
    "        linkedin.com/in/luigipatruno91</a></li>\n",
    "</ul>"
   ]
  },
  {
   "cell_type": "markdown",
   "metadata": {
    "slideshow": {
     "slide_type": "slide"
    }
   },
   "source": [
    "<h2 align=\"center\"> Internet of Things </h2>"
   ]
  },
  {
   "cell_type": "markdown",
   "metadata": {},
   "source": [
    "<ul style=\"display:table; margin:0 auto;\">\n",
    "    <li>Network of physical devices with sensors, actuators, and network connectivity</li>\n",
    "    <li>Able to sense environment and interoperate within larger existing network of devices</li>\n",
    "    <li>Estimated 50 billion objects by 2020</li>\n",
    "    <li>Challenges include privacy concerns, infrastructure, scale, and network</li>\n",
    "</ul>"
   ]
  },
  {
   "cell_type": "markdown",
   "metadata": {},
   "source": [
    "<div style=\"text-align:center;\">\n",
    "    <img src=\"img/fitit.png\" width=175 \n",
    "        style=\"display: inline-block; margin-left: auto; margin-right: auto\"/>\n",
    "    \n",
    "    <img src=\"img/nest.jpg\" width=250 \n",
    "        style=\"display: inline-block; margin-left: auto; margin-right: auto\"/>\n",
    "</div>"
   ]
  },
  {
   "cell_type": "markdown",
   "metadata": {
    "slideshow": {
     "slide_type": "slide"
    }
   },
   "source": [
    "<h2 align=\"center\"> Sensely Architecture </h2>"
   ]
  },
  {
   "cell_type": "markdown",
   "metadata": {},
   "source": [
    "<div style=\"text-align:center;\">\n",
    "    <img src=\"img/architecture.png\"\n",
    "        style=\"display: inline-block; margin-left: auto; margin-right: auto\"/>\n",
    "</div>"
   ]
  },
  {
   "cell_type": "markdown",
   "metadata": {
    "slideshow": {
     "slide_type": "subslide"
    }
   },
   "source": [
    "<h2 align=\"center\"> NodeMCU </h2>"
   ]
  },
  {
   "cell_type": "markdown",
   "metadata": {},
   "source": [
    "<ul style=\"display:table; margin:0 auto;\">\n",
    "    <li>Open source IoT platform</li>\n",
    "    <li>Uses the Lua scripting language</li>\n",
    "    <li>Supports MQTT</li>\n",
    "    <li>WiFi enabled</li>\n",
    "    <li>Costs ~$10</li>\n",
    "</ul>"
   ]
  },
  {
   "cell_type": "markdown",
   "metadata": {},
   "source": [
    "<div style=\"text-align:center;\">\n",
    "    <img src=\"img/sensor1.png\" width=175\n",
    "        style=\"display: inline-block; margin-left: auto; margin-right: auto\"/>\n",
    "    <img src=\"img/sensor2.png\" width=175 \n",
    "        style=\"display: inline-block; margin-left: auto; margin-right: auto\"/>\n",
    "    <img src=\"img/sensor3.png\" width=175 \n",
    "        style=\"display: inline-block; margin-left: auto; margin-right: auto\"/>\n",
    "</div>"
   ]
  },
  {
   "cell_type": "markdown",
   "metadata": {
    "slideshow": {
     "slide_type": "subslide"
    }
   },
   "source": [
    "<h2 align=\"center\"> MQTT </h2>"
   ]
  },
  {
   "cell_type": "markdown",
   "metadata": {},
   "source": [
    "<ul style=\"display:table; margin:0 auto;\">\n",
    "    <li>Publish-subscribe messaging protocol</li>\n",
    "    <li>Designed for connections with remote locations where small code footprint is required\n",
    "        <br>or network bandwith is limited </li>\n",
    "    <li>Requires a message broker (Mosquitto)</li>\n",
    "    <li>Used by Facebook and Amazon</li>\n",
    "</ul>"
   ]
  },
  {
   "cell_type": "markdown",
   "metadata": {
    "slideshow": {
     "slide_type": "slide"
    }
   },
   "source": [
    "<h2 align=\"center\"> Does this look familiar to you? </h2>"
   ]
  },
  {
   "cell_type": "markdown",
   "metadata": {},
   "source": [
    "<div style=\"text-align:center;\">\n",
    "    <img src=\"img/calendar.png\" width=750\n",
    "        style=\"display: inline-block; margin-left: auto; margin-right: auto\"/>\n",
    "</div>"
   ]
  },
  {
   "cell_type": "markdown",
   "metadata": {
    "slideshow": {
     "slide_type": "slide"
    }
   },
   "source": [
    "<h2 align=\"center\"> Just show me some Python! </h2>"
   ]
  },
  {
   "cell_type": "markdown",
   "metadata": {
    "slideshow": {
     "slide_type": "slide"
    }
   },
   "source": [
    "12:30 PM\n",
    "<br>Food, room setup, pictures, discussion of our goals. Spirits are high. We are feeling ambitious. We plan to win, but we also want to be company heroes, solving real Namely problems before industry ones."
   ]
  },
  {
   "cell_type": "markdown",
   "metadata": {
    "slideshow": {
     "slide_type": "subslide"
    }
   },
   "source": [
    "By 2PM, One sensor in the Kent conference room will send temperature data to the broker (Mosquito) and a service (Sensely) will consume this data on a local server. The environment for the UI will be configured and UI development for our loose prototype will have started. \n",
    "<ul>\n",
    "    <li>Greg and Attila will work on the hardware for the sensor</li>\n",
    "    <li>Attila will configure the local server for Luigi</li>\n",
    "    <li>Rich will create the env for the UI and begin UI development</li>\n",
    "    <li>Luigi will create the local service (Sensely) to consume the data</li>\n",
    "    <li>Jordan will prepare the documentation for the presentation with a barebones PPTX presentation, and document our progress throughout</li>\n",
    "</ul>\n"
   ]
  },
  {
   "cell_type": "markdown",
   "metadata": {
    "slideshow": {
     "slide_type": "subslide"
    }
   },
   "source": [
    "2:00PM\n",
    "PROGRESS REPORT: \n",
    "\n",
    "<ul>\n",
    "    <li>Luigi: Met Goal - Python accepts data and can print it out. </li>\n",
    "    <li>Atilla and Greg: Did not Meet Goal. Sending data but not temperature data yet. Needs another hour. </li>\n",
    "    <li>Rich: Met Goal. Environment is setup. Sent CREATE tables. </li>\n",
    "    <li>Jordan. Did not meet goal. Need more time for barebones presentation with additional scope of documenting process.</li>\n",
    "</ul>\n"
   ]
  },
  {
   "cell_type": "markdown",
   "metadata": {
    "slideshow": {
     "slide_type": "subslide"
    }
   },
   "source": [
    "3:00AM\n",
    "PROGRESS REPORT:\n",
    "\n",
    "<ul>\n",
    "    <li>Atilla: Asleep</li>\n",
    "    <li>Luigi: Taking a break. 3rd redbull. Doesn’t even drink redbull.Losin 2</li>\n",
    "    <li>Greg: Troubleshooting non-working devices</li>\n",
    "    <li>Rich: Validating data model, queries and previous data </li>\n",
    "    <li>Jordan: Tired. Worked on CSS for UI. </li>\n",
    "</ul>"
   ]
  },
  {
   "cell_type": "markdown",
   "metadata": {
    "slideshow": {
     "slide_type": "slide"
    }
   },
   "source": [
    "<h2 align=\"center\"> Results </h2>"
   ]
  },
  {
   "cell_type": "markdown",
   "metadata": {},
   "source": [
    "<ul style=\"display:table; margin:0 auto;\">\n",
    "    <li>Our Flask interface was completed by the end of the hackathon</li>\n",
    "    <li>Displayed conference room temperature, humidity, and availability in real-time</li>\n",
    "    <li>Our team won the Sequoia Capital \"Moonshot\" prize</li>\n",
    "</ul>"
   ]
  },
  {
   "cell_type": "markdown",
   "metadata": {},
   "source": [
    "<div style=\"text-align:center;\">\n",
    "    <img src=\"img/hackathon2.jpg\" width=750\n",
    "        style=\"display: inline-block; margin-left: auto; margin-right: auto\"/>\n",
    "</div>"
   ]
  },
  {
   "cell_type": "markdown",
   "metadata": {
    "slideshow": {
     "slide_type": "subslide"
    }
   },
   "source": [
    "<h2 align=\"center\"> Future Mobile App </h2>"
   ]
  },
  {
   "cell_type": "markdown",
   "metadata": {
    "slideshow": {
     "slide_type": "-"
    }
   },
   "source": [
    "<div style=\"text-align:center;\">\n",
    "    <img src=\"img/mobile1.png\" width=175\n",
    "        style=\"display: inline-block; margin-left: auto; margin-right: auto\"/>\n",
    "    <img src=\"img/mobile2.png\" width=175 \n",
    "        style=\"display: inline-block; margin-left: auto; margin-right: auto\"/>\n",
    "    <img src=\"img/mobile3.png\" width=175 \n",
    "        style=\"display: inline-block; margin-left: auto; margin-right: auto\"/>\n",
    "</div>"
   ]
  },
  {
   "cell_type": "markdown",
   "metadata": {
    "slideshow": {
     "slide_type": "slide"
    }
   },
   "source": [
    "<h2 align=\"center\"> Thanks! </h2>"
   ]
  }
 ],
 "metadata": {
  "celltoolbar": "Slideshow",
  "kernelspec": {
   "display_name": "Python 3",
   "language": "python",
   "name": "python3"
  },
  "language_info": {
   "codemirror_mode": {
    "name": "ipython",
    "version": 3
   },
   "file_extension": ".py",
   "mimetype": "text/x-python",
   "name": "python",
   "nbconvert_exporter": "python",
   "pygments_lexer": "ipython3",
   "version": "3.4.3"
  }
 },
 "nbformat": 4,
 "nbformat_minor": 0
}
